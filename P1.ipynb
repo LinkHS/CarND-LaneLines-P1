{
 "cells": [
  {
   "cell_type": "markdown",
   "metadata": {
    "cell_style": "center"
   },
   "source": [
    "# Self-Driving Car Engineer Nanodegree\n",
    "\n",
    "\n",
    "## Project: **Finding Lane Lines on the Road** \n",
    "***\n",
    "In this project, you will use the tools you learned about in the lesson to identify lane lines on the road.  You can develop your pipeline on a series of individual images, and later apply the result to a video stream (really just a series of images). Check out the video clip \"raw-lines-example.mp4\" (also contained in this repository) to see what the output should look like after using the helper functions below. \n",
    "\n",
    "Once you have a result that looks roughly like \"raw-lines-example.mp4\", you'll need to get creative and try to average and/or extrapolate the line segments you've detected to map out the full extent of the lane lines.  You can see an example of the result you're going for in the video \"P1_example.mp4\".  Ultimately, you would like to draw just one line for the left side of the lane, and one for the right.\n",
    "\n",
    "In addition to implementing code, there is a brief writeup to complete. The writeup should be completed in a separate file, which can be either a markdown file or a pdf document. There is a [write up template](https://github.com/udacity/CarND-LaneLines-P1/blob/master/writeup_template.md) that can be used to guide the writing process. Completing both the code in the Ipython notebook and the writeup template will cover all of the [rubric points](https://review.udacity.com/#!/rubrics/322/view) for this project.\n",
    "\n",
    "---\n",
    "Let's have a look at our first image called 'test_images/solidWhiteRight.jpg'.  Run the 2 cells below (hit Shift-Enter or the \"play\" button above) to display the image.\n",
    "\n",
    "**Note: If, at any point, you encounter frozen display windows or other confounding issues, you can always start again with a clean slate by going to the \"Kernel\" menu above and selecting \"Restart & Clear Output\".**\n",
    "\n",
    "---"
   ]
  },
  {
   "cell_type": "markdown",
   "metadata": {},
   "source": [
    "**The tools you have are color selection, region of interest selection, grayscaling, Gaussian smoothing, Canny Edge Detection and Hough Tranform line detection.  You  are also free to explore and try other techniques that were not presented in the lesson.  Your goal is piece together a pipeline to detect the line segments in the image, then average/extrapolate them and draw them onto the image for display (as below).  Once you have a working pipeline, try it out on the video stream below.**\n",
    "\n",
    "---\n",
    "\n",
    "<figure>\n",
    " <img src=\"examples/line-segments-example.jpg\" width=\"380\" alt=\"Combined Image\" />\n",
    " <figcaption>\n",
    " <p></p> \n",
    " <p style=\"text-align: center;\"> Your output should look something like this (above) after detecting line segments using the helper functions below </p> \n",
    " </figcaption>\n",
    "</figure>\n",
    " <p></p> \n",
    "<figure>\n",
    " <img src=\"examples/laneLines_thirdPass.jpg\" width=\"380\" alt=\"Combined Image\" />\n",
    " <figcaption>\n",
    " <p></p> \n",
    " <p style=\"text-align: center;\"> Your goal is to connect/average/extrapolate line segments to get output like this</p> \n",
    " </figcaption>\n",
    "</figure>"
   ]
  },
  {
   "cell_type": "markdown",
   "metadata": {},
   "source": [
    "**Run the cell below to import some packages.  If you get an `import error` for a package you've already installed, try changing your kernel (select the Kernel menu above --> Change Kernel).  Still have problems?  Try relaunching Jupyter Notebook from the terminal prompt.  Also, consult the forums for more troubleshooting tips.**  "
   ]
  },
  {
   "cell_type": "markdown",
   "metadata": {},
   "source": [
    "## Import Packages"
   ]
  },
  {
   "cell_type": "code",
   "execution_count": null,
   "metadata": {
    "cell_style": "center"
   },
   "outputs": [],
   "source": [
    "# importing some useful packages\n",
    "import matplotlib.pyplot as plt\n",
    "import matplotlib.image as mpimg\n",
    "import numpy as np\n",
    "import cv2\n",
    "%matplotlib inline"
   ]
  },
  {
   "cell_type": "markdown",
   "metadata": {
    "heading_collapsed": true
   },
   "source": [
    "## Read in an Image"
   ]
  },
  {
   "cell_type": "code",
   "execution_count": null,
   "metadata": {
    "hidden": true
   },
   "outputs": [],
   "source": [
    "# reading in an image\n",
    "image = mpimg.imread('test_images/solidWhiteRight.jpg')\n",
    "\n",
    "# printing out some stats and plotting\n",
    "print('This image is:', type(image), 'with dimensions:', image.shape)\n",
    "# if you wanted to show a single color channel image called 'gray', for example, call as plt.imshow(gray, cmap='gray')\n",
    "plt.imshow(image)"
   ]
  },
  {
   "cell_type": "markdown",
   "metadata": {
    "heading_collapsed": true
   },
   "source": [
    "## Ideas for Lane Detection Pipeline"
   ]
  },
  {
   "cell_type": "markdown",
   "metadata": {
    "hidden": true
   },
   "source": [
    "**Some OpenCV functions (beyond those introduced in the lesson) that might be useful for this project are:**\n",
    "\n",
    "`cv2.inRange()` for color selection  \n",
    "`cv2.fillPoly()` for regions selection  \n",
    "`cv2.line()` to draw lines on an image given endpoints  \n",
    "`cv2.addWeighted()` to coadd / overlay two images\n",
    "`cv2.cvtColor()` to grayscale or change color\n",
    "`cv2.imwrite()` to output images to file  \n",
    "`cv2.bitwise_and()` to apply a mask to an image\n",
    "\n",
    "**Check out the OpenCV documentation to learn about these and discover even more awesome functionality!**"
   ]
  },
  {
   "cell_type": "markdown",
   "metadata": {
    "cell_style": "center",
    "heading_collapsed": true
   },
   "source": [
    "## Helper Functions"
   ]
  },
  {
   "cell_type": "markdown",
   "metadata": {
    "hidden": true
   },
   "source": [
    "Below are some helper functions to help get you started. They should look familiar from the lesson!"
   ]
  },
  {
   "cell_type": "code",
   "execution_count": null,
   "metadata": {
    "hidden": true
   },
   "outputs": [],
   "source": [
    "import math\n",
    "\n",
    "\n",
    "def grayscale(img):\n",
    "    \"\"\"Applies the Grayscale transform\n",
    "    This will return an image with only one color channel\n",
    "    but NOTE: to see the returned image as grayscale\n",
    "    (assuming your grayscaled image is called 'gray')\n",
    "    you should call plt.imshow(gray, cmap='gray')\"\"\"\n",
    "    return cv2.cvtColor(img, cv2.COLOR_RGB2GRAY)\n",
    "    # Or use BGR2GRAY if you read an image with cv2.imread()\n",
    "    # return cv2.cvtColor(img, cv2.COLOR_BGR2GRAY)\n",
    "\n",
    "\n",
    "def canny(img, low_threshold, high_threshold):\n",
    "    \"\"\"Applies the Canny transform\"\"\"\n",
    "    return cv2.Canny(img, low_threshold, high_threshold)\n",
    "\n",
    "\n",
    "def gaussian_blur(img, kernel_size):\n",
    "    \"\"\"Applies a Gaussian Noise kernel\"\"\"\n",
    "    return cv2.GaussianBlur(img, (kernel_size, kernel_size), 0)\n",
    "\n",
    "\n",
    "def region_of_interest(img, vertices):\n",
    "    \"\"\"\n",
    "    Applies an image mask.\n",
    "\n",
    "    Only keeps the region of the image defined by the polygon\n",
    "    formed from `vertices`. The rest of the image is set to black.\n",
    "    `vertices` should be a numpy array of integer points.\n",
    "    \"\"\"\n",
    "    # defining a blank mask to start with\n",
    "    mask = np.zeros_like(img)\n",
    "\n",
    "    # defining a 3 channel or 1 channel color to fill the mask with depending on the input image\n",
    "    if len(img.shape) > 2:\n",
    "        channel_count = img.shape[2]  # i.e. 3 or 4 depending on your image\n",
    "        ignore_mask_color = (255,) * channel_count\n",
    "    else:\n",
    "        ignore_mask_color = 255\n",
    "\n",
    "    # filling pixels inside the polygon defined by \"vertices\" with the fill color\n",
    "    cv2.fillPoly(mask, vertices, ignore_mask_color)\n",
    "\n",
    "    # returning the image only where mask pixels are nonzero\n",
    "    masked_image = cv2.bitwise_and(img, mask)\n",
    "    return masked_image\n",
    "\n",
    "\n",
    "def draw_lines(img, lines, color=[255, 0, 0], thickness=2):\n",
    "    \"\"\"\n",
    "    NOTE: this is the function you might want to use as a starting point once you want to \n",
    "    average/extrapolate the line segments you detect to map out the full\n",
    "    extent of the lane (going from the result shown in raw-lines-example.mp4\n",
    "    to that shown in P1_example.mp4).  \n",
    "\n",
    "    Think about things like separating line segments by their \n",
    "    slope ((y2-y1)/(x2-x1)) to decide which segments are part of the left\n",
    "    line vs. the right line.  Then, you can average the position of each of \n",
    "    the lines and extrapolate to the top and bottom of the lane.\n",
    "\n",
    "    This function draws `lines` with `color` and `thickness`.    \n",
    "    Lines are drawn on the image inplace (mutates the image).\n",
    "    If you want to make the lines semi-transparent, think about combining\n",
    "    this function with the weighted_img() function below\n",
    "    \"\"\"\n",
    "    for line in lines:\n",
    "        for x1, y1, x2, y2 in line:\n",
    "            cv2.line(img, (x1, y1), (x2, y2), color, thickness)\n",
    "\n",
    "\n",
    "def hough_lines(img, rho, theta, threshold, min_line_len, max_line_gap):\n",
    "    \"\"\"\n",
    "    `img` should be the output of a Canny transform.\n",
    "\n",
    "    Returns an image with hough lines drawn.\n",
    "    \"\"\"\n",
    "    lines = cv2.HoughLinesP(img, rho, theta, threshold, np.array([]),\n",
    "                            minLineLength=min_line_len, maxLineGap=max_line_gap)\n",
    "    line_img = np.zeros((img.shape[0], img.shape[1], 3), dtype=np.uint8)\n",
    "    draw_lines(line_img, lines)\n",
    "    return line_img\n",
    "\n",
    "# Python 3 has support for cool math symbols.\n",
    "\n",
    "\n",
    "def weighted_img(img, initial_img, α=0.8, β=1., γ=0.):\n",
    "    \"\"\"\n",
    "    `img` is the output of the hough_lines(), An image with lines drawn on it.\n",
    "    Should be a blank image (all black) with lines drawn on it.\n",
    "\n",
    "    `initial_img` should be the image before any processing.\n",
    "\n",
    "    The result image is computed as follows:\n",
    "\n",
    "    initial_img * α + img * β + γ\n",
    "    NOTE: initial_img and img must be the same shape!\n",
    "    \"\"\"\n",
    "    return cv2.addWeighted(initial_img, α, img, β, γ)"
   ]
  },
  {
   "cell_type": "markdown",
   "metadata": {},
   "source": [
    "## Test Images\n",
    "\n",
    "Build your pipeline to work on the images in the directory \"test_images\"  \n",
    "**You should make sure your pipeline works well on these images before you try the videos.**"
   ]
  },
  {
   "cell_type": "code",
   "execution_count": null,
   "metadata": {},
   "outputs": [],
   "source": [
    "import os\n",
    "os.listdir(\"test_images/\")"
   ]
  },
  {
   "cell_type": "markdown",
   "metadata": {},
   "source": [
    "## Build a Lane Finding Pipeline\n",
    "\n"
   ]
  },
  {
   "cell_type": "markdown",
   "metadata": {},
   "source": [
    "Build the pipeline and run your solution on all test_images. Make copies into the `test_images_output` directory, and you can use the images in your writeup report.\n",
    "\n",
    "Try tuning the various parameters, especially the low and high Canny thresholds as well as the Hough lines parameters."
   ]
  },
  {
   "cell_type": "code",
   "execution_count": null,
   "metadata": {},
   "outputs": [],
   "source": [
    "from math import isnan\n",
    "\n",
    "def drawLanes(img, lanes):\n",
    "    lane_img = np.zeros((img.shape[0], img.shape[1], 3), dtype=np.uint8)\n",
    "    draw_lines(lane_img, [lanes], color=[255, 255, 0], thickness=5)\n",
    "    return lane_img\n",
    "        \n",
    "def remove_outlier(D2, min_num=3, min_std=0.1):\n",
    "    def np_2d_std(D2):\n",
    "        mean = D2.mean(axis=0)\n",
    "        sum = 0\n",
    "        for d2 in D2:\n",
    "            sum += ((d2-mean)*(d2-mean)).sum()\n",
    "            # print(sum)\n",
    "        return np.sqrt(sum/len(D2))\n",
    "\n",
    "    while (len(D2) > min_num) and (np_2d_std(D2) > min_std):\n",
    "        max_idx = 0\n",
    "        std = 0\n",
    "        for i in range(len(D2)):\n",
    "            _D2 = np.delete(D2, i, axis=0)\n",
    "            if (i == 0) or (np_2d_std(_D2) < std):\n",
    "                std = np_2d_std(_D2)\n",
    "                max_idx = i\n",
    "\n",
    "        D2 = np.delete(D2, max_idx, axis=0)\n",
    "        # print(\"{:.2f}\".format(np_2d_std(D2)))\n",
    "\n",
    "    return D2\n",
    "\n",
    "\n",
    "class FindLanes:\n",
    "    @staticmethod\n",
    "    def getROIMask(img_shape, mask_value=255, roi_ltrt_coeff=[0.469, 0.537, 0.510, 0.537]):\n",
    "        \"\"\"\n",
    "        Defining a four sided polygon to mask\n",
    "        \"\"\"\n",
    "        mask = np.zeros(img_shape, dtype=np.uint8)\n",
    "\n",
    "        lb = (0, img_shape[0])\n",
    "        lt = (int(roi_ltrt_coeff[0]*img_shape[1]),\n",
    "              int(roi_ltrt_coeff[1]*img_shape[0]))\n",
    "        rb = (img_shape[1], img_shape[0])\n",
    "        rt = (int(roi_ltrt_coeff[2]*img_shape[1]),\n",
    "              int(roi_ltrt_coeff[3]*img_shape[0]))\n",
    "\n",
    "        vertices = np.array([[lb, lt, rt, rb]], dtype=np.int32)\n",
    "        cv2.fillPoly(mask, vertices, mask_value)\n",
    "        return mask\n",
    "\n",
    "    @staticmethod\n",
    "    def detectEdges(img_mono, kernel_size=5, low_threshold=50, high_threshold=150):\n",
    "        # Applies a Gaussian Noise kernel\n",
    "        img_blur = cv2.GaussianBlur(img_mono, (kernel_size, kernel_size), 0)\n",
    "\n",
    "        # Applies the Canny transform\n",
    "        img_edge = cv2.Canny(img_blur, low_threshold, high_threshold)\n",
    "        return img_edge\n",
    "\n",
    "    @staticmethod\n",
    "    def detectLines(img):\n",
    "        \"\"\"\n",
    "        `img` should be the output of a edge detection transform like Canny.\n",
    "\n",
    "        Returns an image with hough lines drawn.\n",
    "        \"\"\"\n",
    "        # Define the Hough transform parameters\n",
    "        rho = 1  # distance resolution in pixels of the Hough grid\n",
    "        theta = np.pi/180  # angular resolution in radians of the Hough grid\n",
    "        # minimum number of votes (intersections in Hough grid cell)\n",
    "        threshold = 10\n",
    "        min_line_len = 40  # minimum number of pixels making up a line\n",
    "        max_line_gap = 10    # maximum gap in pixels between connectable line segments\n",
    "\n",
    "        lines = cv2.HoughLinesP(img, rho, theta, threshold, np.array([]),\n",
    "                                minLineLength=min_line_len, maxLineGap=max_line_gap)\n",
    "        return lines\n",
    "\n",
    "    @staticmethod\n",
    "    def filterLines(lines_hough, angle_threshold=[30, 150], len_threshold=[]):\n",
    "        \"\"\"\n",
    "        @lines_cord, line detection results from `cv2.HoughLines`\n",
    "        @angle_threshold, [min, max], 0-180\n",
    "        @len_threshold, [min, max]\n",
    "        \"\"\"\n",
    "        lines = lines_hough[:, 0, :]  # n*c*4 => n*4\n",
    "        x1, y1, x2, y2 = lines[:, 0], lines[:, 1], lines[:, 2], lines[:, 3]\n",
    "\n",
    "        angles = np.rad2deg(np.arctan2(y2-y1, x2-x1))  # 计算斜率并转成角度\n",
    "        angles[angles < 0] += 180  # 负角度转换成正的\n",
    "\n",
    "        pos_keep = (angles > angle_threshold[0]) & (angles < angle_threshold[1])\n",
    "\n",
    "        angles = angles[pos_keep]\n",
    "        lines_kept = lines_hough[pos_keep, :, :]\n",
    "        return lines_kept, angles\n",
    "\n",
    "    @staticmethod\n",
    "    def merge2Lanes(lines_cord, angles, y_inter=720, y_start=320):\n",
    "        \"\"\"\n",
    "        @ lines_cord, n*1*4，n*1*(x1, y1, x2, y2)\n",
    "        @ angles, 从x轴左边往x轴右边旋转的度数\n",
    "        @ y_inter, 图像高度，用于计算线条和图像底边(y_inter)交点\n",
    "        \"\"\"\n",
    "        lines = lines_cord[:, 0, :]  # n*c*4 => n*4\n",
    "        x1, y1, x2, y2 = lines[:, 0], lines[:, 1], lines[:, 2], lines[:, 3]\n",
    "\n",
    "        # slope，“90-angles” 转换为 dx/dy 的斜率，方便下面计算和x轴交点\n",
    "        s = np.tan(np.deg2rad(90-angles))\n",
    "        i = (y_inter-y1)*s + x1\n",
    "        a_i = np.hstack((angles.reshape(-1, 1), i.reshape(-1, 1)))\n",
    "\n",
    "        al = angles[angles > 90].reshape(-1, 1)\n",
    "        il = i[angles > 90].reshape(-1, 1)\n",
    "        ar = angles[(angles <= 90)].reshape(-1, 1)\n",
    "        ir = i[angles <= 90].reshape(-1, 1)\n",
    "\n",
    "        merged_l = remove_outlier(np.hstack((al, il)), min_num=3, min_std=16)\n",
    "        merged_r = remove_outlier(np.hstack((ar, ir)), min_num=3, min_std=16)\n",
    "\n",
    "        # 斜率和交点平均值\n",
    "        avg_a_l = merged_l[:, 0].mean()\n",
    "        avg_i_l = merged_l[:, 1].mean()\n",
    "\n",
    "        avg_a_r = merged_r[:, 0].mean()\n",
    "        avg_i_r = merged_r[:, 1].mean()\n",
    "\n",
    "        # 画出线条\n",
    "        s_yx = np.tan(np.deg2rad(avg_a_l))  # left\n",
    "        # (y1 - y2)/(x1 - x2) = s => x2 = x1 - (y1-y2)/s\n",
    "        xb = avg_i_l - (y_inter-y_start)/s_yx\n",
    "        line_l = [int(x) for x in [avg_i_l, y_inter, xb, y_start]\n",
    "                  ] if not isnan(xb) else [0, 0, 0, 0]\n",
    "\n",
    "        s_yx = np.tan(np.deg2rad(avg_a_r))  # left\n",
    "        # (y1 - y2)/(x1 - x2) = s => x2 = x1 - (y1-y2)/s\n",
    "        xb = avg_i_r - (y_inter-y_start)/s_yx\n",
    "        line_r = [int(x) for x in [avg_i_r, y_inter, xb, y_start]\n",
    "                  ] if not isnan(xb) else [0, 0, 0, 0]\n",
    "\n",
    "        # 返回线条\n",
    "        return line_l, line_r\n",
    "\n",
    "\n",
    "img = mpimg.imread('test_images/solidYellowCurve.jpg')\n",
    "img_gray = cv2.cvtColor(img, cv2.COLOR_RGB2GRAY)\n",
    "roi_ltrt_coeff = [0.469, 0.537, 0.510, 0.537]\n",
    "mask = FindLanes.getROIMask(img_gray.shape, roi_ltrt_coeff=roi_ltrt_coeff)\n",
    "edges = FindLanes.detectEdges(img_gray)\n",
    "mask_edges = cv2.bitwise_and(edges, mask)\n",
    "lines = FindLanes.detectLines(mask_edges)\n",
    "\n",
    "lines, angles = FindLanes.filterLines(lines, angle_threshold=[25, 155])\n",
    "\n",
    "line_l, line_r = FindLanes.merge2Lanes(lines, angles, img.shape[0], y_start=0.6*image.shape[0])\n",
    "\n",
    "lane_img = drawLanes(img, [line_l, line_r])\n",
    "plt.imshow(lane_img, cmap='Greys_r')"
   ]
  },
  {
   "cell_type": "markdown",
   "metadata": {},
   "source": [
    "## Test on Videos\n",
    "\n",
    "You know what's cooler than drawing lanes over images? Drawing lanes over video!\n",
    "\n",
    "We can test our solution on two provided videos:\n",
    "\n",
    "`solidWhiteRight.mp4`\n",
    "\n",
    "`solidYellowLeft.mp4`\n",
    "\n",
    "**Note: if you get an import error when you run the next cell, try changing your kernel (select the Kernel menu above --> Change Kernel). Still have problems? Try relaunching Jupyter Notebook from the terminal prompt. Also, consult the forums for more troubleshooting tips.**\n",
    "\n",
    "**If you get an error that looks like this:**\n",
    "```\n",
    "NeedDownloadError: Need ffmpeg exe. \n",
    "You can download it by calling: \n",
    "imageio.plugins.ffmpeg.download()\n",
    "```\n",
    "**Follow the instructions in the error message and check out [this forum post](https://discussions.udacity.com/t/project-error-of-test-on-videos/274082) for more troubleshooting tips across operating systems.**"
   ]
  },
  {
   "cell_type": "code",
   "execution_count": null,
   "metadata": {},
   "outputs": [],
   "source": [
    "# Import everything needed to edit/save/watch video clips\n",
    "from moviepy.editor import VideoFileClip\n",
    "from IPython.display import HTML"
   ]
  },
  {
   "cell_type": "code",
   "execution_count": null,
   "metadata": {},
   "outputs": [],
   "source": [
    "def process_image(image):\n",
    "    # NOTE: The output you return should be a color image (3 channel) for processing video below\n",
    "    # TODO: put your pipeline here,\n",
    "    # you should return the final output (image where lines are drawn on lanes)\n",
    "    # print(image.shape)\n",
    "    img_gray = cv2.cvtColor(image, cv2.COLOR_RGB2GRAY)\n",
    "    roi_ltrt_coeff = [0.469, 0.537, 0.510, 0.537]\n",
    "    mask = FindLanes.getROIMask(img_gray.shape, roi_ltrt_coeff=roi_ltrt_coeff)\n",
    "    edges = FindLanes.detectEdges(img_gray)\n",
    "    mask_edges = cv2.bitwise_and(edges, mask)\n",
    "    lines = FindLanes.detectLines(mask_edges)\n",
    "\n",
    "    lines, angles = FindLanes.filterLines(lines, angle_threshold=[25, 155])\n",
    "    lane_l, lane_r = FindLanes.merge2Lanes(lines, angles, image.shape[0], y_start=0.6*image.shape[0])\n",
    "    \n",
    "    lane_img = np.zeros((image.shape[0], image.shape[1], 3), dtype=np.uint8)\n",
    "    lane_img = drawLanes(lane_img, [lane_l, lane_r])\n",
    "\n",
    "    result = cv2.addWeighted(image, 0.8, lane_img, 1, 0)\n",
    "    return result"
   ]
  },
  {
   "cell_type": "markdown",
   "metadata": {},
   "source": [
    "Let's try the one with the solid white lane on the right first ..."
   ]
  },
  {
   "cell_type": "code",
   "execution_count": null,
   "metadata": {},
   "outputs": [],
   "source": [
    "white_output = 'test_videos_output/solidWhiteRight.mp4'\n",
    "# To speed up the testing process you may want to try your pipeline on a shorter subclip of the video\n",
    "# To do so add .subclip(start_second,end_second) to the end of the line below\n",
    "# Where start_second and end_second are integer values representing the start and end of the subclip\n",
    "# You may also uncomment the following line for a subclip of the first 5 seconds\n",
    "##clip1 = VideoFileClip(\"test_videos/solidWhiteRight.mp4\").subclip(0,5)\n",
    "clip1 = VideoFileClip(\"test_videos/solidWhiteRight.mp4\")\n",
    "# NOTE: this function expects color images!!\n",
    "white_clip = clip1.fl_image(process_image)\n",
    "%time white_clip.write_videofile(white_output, audio=False)"
   ]
  },
  {
   "cell_type": "markdown",
   "metadata": {},
   "source": [
    "Play the video inline, or if you prefer find the video in your filesystem (should be in the same directory) and play it in your video player of choice."
   ]
  },
  {
   "cell_type": "code",
   "execution_count": null,
   "metadata": {},
   "outputs": [],
   "source": [
    "HTML(\"\"\"\n",
    "<video width=\"960\" height=\"540\" controls>\n",
    "  <source src=\"{0}\">\n",
    "</video>\n",
    "\"\"\".format(white_output))"
   ]
  },
  {
   "cell_type": "markdown",
   "metadata": {},
   "source": [
    "## Improve the draw_lines() function\n",
    "\n",
    "**At this point, if you were successful with making the pipeline and tuning parameters, you probably have the Hough line segments drawn onto the road, but what about identifying the full extent of the lane and marking it clearly as in the example video (P1_example.mp4)?  Think about defining a line to run the full length of the visible lane based on the line segments you identified with the Hough Transform. As mentioned previously, try to average and/or extrapolate the line segments you've detected to map out the full extent of the lane lines. You can see an example of the result you're going for in the video \"P1_example.mp4\".**\n",
    "\n",
    "**Go back and modify your draw_lines function accordingly and try re-running your pipeline. The new output should draw a single, solid line over the left lane line and a single, solid line over the right lane line. The lines should start from the bottom of the image and extend out to the top of the region of interest.**"
   ]
  },
  {
   "cell_type": "markdown",
   "metadata": {},
   "source": [
    "Now for the one with the solid yellow lane on the left. This one's more tricky!"
   ]
  },
  {
   "cell_type": "code",
   "execution_count": null,
   "metadata": {},
   "outputs": [],
   "source": [
    "yellow_output = 'test_videos_output/solidYellowLeft.mp4'\n",
    "# To speed up the testing process you may want to try your pipeline on a shorter subclip of the video\n",
    "# To do so add .subclip(start_second,end_second) to the end of the line below\n",
    "# Where start_second and end_second are integer values representing the start and end of the subclip\n",
    "# You may also uncomment the following line for a subclip of the first 5 seconds\n",
    "##clip2 = VideoFileClip('test_videos/solidYellowLeft.mp4').subclip(0,5)\n",
    "clip2 = VideoFileClip('test_videos/solidYellowLeft.mp4')\n",
    "yellow_clip = clip2.fl_image(process_image)\n",
    "%time yellow_clip.write_videofile(yellow_output, audio=False)"
   ]
  },
  {
   "cell_type": "code",
   "execution_count": null,
   "metadata": {},
   "outputs": [],
   "source": [
    "HTML(\"\"\"\n",
    "<video width=\"960\" height=\"540\" controls>\n",
    "  <source src=\"{0}\">\n",
    "</video>\n",
    "\"\"\".format(yellow_output))"
   ]
  },
  {
   "cell_type": "markdown",
   "metadata": {
    "heading_collapsed": true
   },
   "source": [
    "## Writeup and Submission\n",
    "\n",
    "If you're satisfied with your video outputs, it's time to make the report writeup in a pdf or markdown file. Once you have this Ipython notebook ready along with the writeup, it's time to submit for review! Here is a [link](https://github.com/udacity/CarND-LaneLines-P1/blob/master/writeup_template.md) to the writeup template file.\n"
   ]
  },
  {
   "cell_type": "markdown",
   "metadata": {},
   "source": [
    "## Optional Challenge\n",
    "\n",
    "Try your lane finding pipeline on the video below.  Does it still work?  Can you figure out a way to make it more robust?  If you're up for the challenge, modify your pipeline so it works with this video and submit it along with the rest of your project!"
   ]
  },
  {
   "cell_type": "code",
   "execution_count": null,
   "metadata": {},
   "outputs": [],
   "source": [
    "challenge_output = 'test_videos_output/challenge.mp4'\n",
    "# To speed up the testing process you may want to try your pipeline on a shorter subclip of the video\n",
    "# To do so add .subclip(start_second,end_second) to the end of the line below\n",
    "# Where start_second and end_second are integer values representing the start and end of the subclip\n",
    "# You may also uncomment the following line for a subclip of the first 5 seconds\n",
    "##clip3 = VideoFileClip('test_videos/challenge.mp4').subclip(0,5)\n",
    "clip3 = VideoFileClip('test_videos/challenge.mp4')\n",
    "challenge_clip = clip3.fl_image(process_image)\n",
    "%time challenge_clip.write_videofile(challenge_output, audio=False)"
   ]
  },
  {
   "cell_type": "code",
   "execution_count": null,
   "metadata": {},
   "outputs": [],
   "source": [
    "HTML(\"\"\"\n",
    "<video width=\"960\" height=\"540\" controls>\n",
    "  <source src=\"{0}\">\n",
    "</video>\n",
    "\"\"\".format(challenge_output))"
   ]
  }
 ],
 "metadata": {
  "anaconda-cloud": {},
  "kernelspec": {
   "display_name": "Python 3",
   "language": "python",
   "name": "python3"
  },
  "language_info": {
   "codemirror_mode": {
    "name": "ipython",
    "version": 3
   },
   "file_extension": ".py",
   "mimetype": "text/x-python",
   "name": "python",
   "nbconvert_exporter": "python",
   "pygments_lexer": "ipython3",
   "version": "3.7.0"
  },
  "toc": {
   "base_numbering": 1,
   "nav_menu": {},
   "number_sections": true,
   "sideBar": true,
   "skip_h1_title": false,
   "title_cell": "Table of Contents",
   "title_sidebar": "Contents",
   "toc_cell": false,
   "toc_position": {
    "height": "calc(100% - 180px)",
    "left": "10px",
    "top": "150px",
    "width": "165px"
   },
   "toc_section_display": true,
   "toc_window_display": true
  }
 },
 "nbformat": 4,
 "nbformat_minor": 1
}
